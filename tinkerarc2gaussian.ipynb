{
 "cells": [
  {
   "cell_type": "code",
   "execution_count": 1,
   "metadata": {},
   "outputs": [],
   "source": [
    "import os,sys,shlex"
   ]
  },
  {
   "cell_type": "code",
   "execution_count": 2,
   "metadata": {},
   "outputs": [],
   "source": [
    "# Current working direcory\n",
    "os.chdir(\"/home/cloudam/work/tinker_scan\")\n",
    "\n",
    "# TinkerPath\n",
    "TinkerPath = \"/home/cloudam/software/tinker\"\n",
    "\n",
    "#Gaussain Input parameters\n",
    "keyword = 'opt freq apfd/6-311+g(2d,p)'\n",
    "solvent = 'chloroform'\n",
    "charge = 0\n",
    "multiplicity = 1\n",
    "\n",
    "# Prefix of the Tinker Scan output file (ARC file)\n",
    "TinkerScanOutput = \"IP4\""
   ]
  },
  {
   "cell_type": "code",
   "execution_count": 3,
   "metadata": {},
   "outputs": [],
   "source": [
    "#Reads force field parameter file to understand atom notation in the output\n",
    "def ExtractAtomTypes(TinkerPath):\n",
    "    # open settings.TinkerPath + 'params/mmff.prm\n",
    "    atomtypes = []\n",
    "    atomnums = []\n",
    "    with open(TinkerPath + '/params/mmff.prm', 'r') as f:\n",
    "        for line in f:\n",
    "            if line.split(' ')[0] == 'atom':\n",
    "                data = shlex.split(line, posix=False)\n",
    "                atomtypes.append(data[3])\n",
    "                atomnums.append(int(data[-3]))\n",
    "    return atomtypes, atomnums"
   ]
  },
  {
   "cell_type": "code",
   "execution_count": 4,
   "metadata": {},
   "outputs": [],
   "source": [
    "def GetAtomSymbol(AtomNum):\n",
    "    Lookup = ['H', 'He', 'Li', 'Be', 'B', 'C', 'N', 'O', 'F', 'Ne', 'Na', 'Mg', 'Al', \\\n",
    "              'Si', 'P', 'S', 'Cl', 'Ar', 'K', 'Ca', 'Sc', 'Ti', 'V', 'Cr', 'Mn', 'Fe', 'Co', \\\n",
    "              'Ni', 'Cu', 'Zn', 'Ga', 'Ge', 'As', 'Se', 'Br', 'Kr', 'Rb', 'Sr', 'Y', 'Zr', \\\n",
    "              'Nb', 'Mo', 'Tc', 'Ru', 'Rh', 'Pd', 'Ag', 'Cd', 'In', 'Sn', 'Sb', 'Te', 'I', \\\n",
    "              'Xe', 'Cs', 'Ba', 'La', 'Ce', 'Pr', 'Nd', 'Pm', 'Sm', 'Eu', 'Gd', 'Tb', 'Dy', \\\n",
    "              'Ho', 'Er', 'Tm', 'Yb', 'Lu', 'Hf', 'Ta', 'W', 'Re', 'Os', 'Ir', 'Pt', 'Au', \\\n",
    "              'Hg', 'Tl', 'Pb', 'Bi', 'Po', 'At', 'Rn']\n",
    "\n",
    "    if AtomNum > 0 and AtomNum < len(Lookup):\n",
    "        return Lookup[AtomNum-1]\n",
    "    else:\n",
    "        print(\"No such element with atomic number \" + str(AtomNum))\n",
    "        return 0"
   ]
  },
  {
   "cell_type": "code",
   "execution_count": 5,
   "metadata": {},
   "outputs": [],
   "source": [
    "def ReadArc(f, atypes, anums):\n",
    "    conffile = open(f + '.arc', 'r')\n",
    "    confdata = conffile.readlines()\n",
    "    conffile.close()\n",
    "    #output data: conformers - list of x,y,z lists, atoms - list of atoms\n",
    "    conformers = []\n",
    "    atoms = []\n",
    "    atypes = [x[:3] for x in atypes]\n",
    "\n",
    "    for line in confdata:\n",
    "        data = [_f for _f in line.split('  ') if _f]\n",
    "        if len(data) < 3:\n",
    "            conformers.append([])\n",
    "        else:\n",
    "            if len(conformers) == 1:\n",
    "                anum = anums[atypes.index(data[1][:3])]\n",
    "                atoms.append(GetAtomSymbol(anum))\n",
    "            conformers[-1].append([x for x in data[2:5]])\n",
    "\n",
    "    return atoms, conformers\n"
   ]
  },
  {
   "cell_type": "code",
   "execution_count": 6,
   "metadata": {},
   "outputs": [],
   "source": [
    "# Get energies of conformers from tinker output file\n",
    "def GetEnergiesCharge(TinkerOutput):\n",
    "\n",
    "    infile = open(TinkerOutput + '.tout', 'r')\n",
    "\n",
    "    inp = infile.readlines()\n",
    "    if len(inp) < 56:\n",
    "        print(\"Tinker output \" + TinkerOutput + \" is corrupted, aborting.\")\n",
    "        quit()\n",
    "\n",
    "    #Get the conformer energies from the file\n",
    "    energies = []\n",
    "    for line in inp[13:]:\n",
    "        data = line[:-1].split('  ')\n",
    "        data = [_f for _f in data if _f]\n",
    "        if len(data) >= 3:\n",
    "            if 'Map' in data[0] and 'Minimum' in data[1]:\n",
    "                energies.append(float(data[-1]))\n",
    "                #print data\n",
    "\n",
    "    infile.close()\n",
    "    return energies"
   ]
  },
  {
   "cell_type": "code",
   "execution_count": 7,
   "metadata": {},
   "outputs": [],
   "source": [
    "# extract atomtype from MMFF94 force filed\n",
    "atomtypes, atomnums = ExtractAtomTypes(TinkerPath)"
   ]
  },
  {
   "cell_type": "code",
   "execution_count": 8,
   "metadata": {},
   "outputs": [],
   "source": [
    "# Read Tinker Scan ARC\n",
    "atoms,conformers = ReadArc(TinkerScanOutput,atomtypes,atomnums)"
   ]
  },
  {
   "cell_type": "code",
   "execution_count": 9,
   "metadata": {},
   "outputs": [],
   "source": [
    "# variables:\n",
    "# TinkerScanOutput:   the prefix of the Tinker output file. For exanple, IP4 is the prefix name of IP4.arc\n",
    "# ConfId: is used to defined the conformer file\n",
    "# keyword: the keywork for Gaussian calculation\n",
    "# solvent: the PCM solvent\n",
    "# atoms: atom list returned from ReadArc\n",
    "# conformer: the conformer extracted from Tinker Arc \n",
    "\n",
    "def WriteGaussFile(TinkerScanOutput,ConfId,keyword,solvent,atoms,conformer):\n",
    "    natom = 0\n",
    "    ChkFile = '%chk='+TinkerScanOutput+'_'+str(ConfId)+'.chk\\n'\n",
    "    OptRoute = '#p '+keyword+' scrf=(solvent='+solvent+')\\n'\n",
    "    Title = 'Structure: '+TinkerScanOutput+'_'+str(ConfId)+'. Calculation: '+keyword+' \\n'\n",
    "    GaussInput = TinkerScanOutput+'_'+str(ConfId)+'.com'\n",
    "    atoms = atoms\n",
    "    conformer = conformer\n",
    "    f = open(GaussInput,'w')\n",
    "    f.write(ChkFile)\n",
    "    f.write(OptRoute)\n",
    "    f.write(\"\\n\")\n",
    "    f.write(Title)\n",
    "    f.write(\"\\n\")\n",
    "    f.write(str(charge)+' '+str(multiplicity)+'\\n')\n",
    "    for atom in conformer:\n",
    "        f.write(atoms[natom] + ' ' + atom[0] + ' ' + atom[1] + ' ' +atom[2]+ '\\n')\n",
    "        natom = natom+1\n",
    "\n",
    "    f.write('\\n')\n",
    "    f.close()"
   ]
  },
  {
   "cell_type": "code",
   "execution_count": 10,
   "metadata": {},
   "outputs": [],
   "source": [
    "# extract atomtype from MMFF94 force filed\n",
    "atomtypes, atomnums = ExtractAtomTypes(TinkerPath)\n",
    "\n",
    "# Read Tinker Scan ARC\n",
    "atoms,conformers = ReadArc(TinkerScanOutput,atomtypes,atomnums)\n"
   ]
  },
  {
   "cell_type": "code",
   "execution_count": 11,
   "metadata": {},
   "outputs": [],
   "source": [
    "# Gernerate Gaussian input file\n",
    "for cid in range(len(conformers)):\n",
    "    conformer = conformers[cid]\n",
    "    ConfId = cid + 1\n",
    "    WriteGaussFile(TinkerScanOutput,ConfId,keyword,solvent,atoms,conformer)"
   ]
  },
  {
   "cell_type": "code",
   "execution_count": 12,
   "metadata": {},
   "outputs": [
    {
     "name": "stdout",
     "output_type": "stream",
     "text": [
      "[31.3355, 29.0416, 31.3763]\n"
     ]
    }
   ],
   "source": [
    "# extract conformer energy\n",
    "energy = GetEnergiesCharge(\"IP4\")\n",
    "print(energy)"
   ]
  },
  {
   "cell_type": "code",
   "execution_count": null,
   "metadata": {},
   "outputs": [],
   "source": []
  }
 ],
 "metadata": {
  "kernelspec": {
   "display_name": "Python 3",
   "language": "python",
   "name": "python3"
  },
  "language_info": {
   "codemirror_mode": {
    "name": "ipython",
    "version": 3
   },
   "file_extension": ".py",
   "mimetype": "text/x-python",
   "name": "python",
   "nbconvert_exporter": "python",
   "pygments_lexer": "ipython3",
   "version": "3.6.11"
  }
 },
 "nbformat": 4,
 "nbformat_minor": 4
}
